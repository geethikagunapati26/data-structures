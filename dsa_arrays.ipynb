{
 "cells": [
  {
   "cell_type": "code",
   "execution_count": 3,
   "id": "940a94b4",
   "metadata": {},
   "outputs": [
    {
     "name": "stdout",
     "output_type": "stream",
     "text": [
      "[9, 6, 77, 85]\n",
      "85\n"
     ]
    }
   ],
   "source": [
    "# Find the maximum element in the array\n",
    "arr=list(map(int,input(\"enter elements\").split()))\n",
    "print(arr)\n",
    "print(max(arr))"
   ]
  },
  {
   "cell_type": "code",
   "execution_count": 8,
   "id": "1a67c4fb",
   "metadata": {},
   "outputs": [
    {
     "name": "stdout",
     "output_type": "stream",
     "text": [
      "[1, 2, 7, 9]\n",
      "9\n"
     ]
    }
   ],
   "source": [
    "arr=list(map(int,input(\"enter elements\").split()))\n",
    "max_element=arr[0]\n",
    "for num in arr:\n",
    "    if num>max_element:\n",
    "       max_element=num\n",
    "print(arr)\n",
    "print(max_element) "
   ]
  },
  {
   "cell_type": "code",
   "execution_count": null,
   "id": "50ced57f",
   "metadata": {},
   "outputs": [
    {
     "name": "stdout",
     "output_type": "stream",
     "text": [
      "[4, 5, 6, 8]\n",
      "the element 9 not found in the given array\n"
     ]
    }
   ],
   "source": [
    "arr=list(map(int,input(\"enter elements\").split()))\n",
    "element=int(input(\"enter element to search:\"))\n",
    "s_arr=sorted(arr)\n",
    "low=0\n",
    "high=len(s_arr)-1\n",
    "print(s_arr)\n",
    "\n",
    "for i in s_arr:\n",
    "    mid=(low+high)//2\n",
    "    if s_arr[mid]==element:\n",
    "        print(f\"the element found at index {mid}\")\n",
    "        break``\n",
    "    elif s_arr[mid]>element:\n",
    "        high=mid-1\n",
    "    elif s_arr[mid]<element:\n",
    "        low=mid+1\n",
    "if element not in s_arr:\n",
    "    print(f\"the element {element} not found in the given array\")            \n"
   ]
  },
  {
   "cell_type": "code",
   "execution_count": null,
   "id": "2016ea84",
   "metadata": {},
   "outputs": [
    {
     "name": "stdout",
     "output_type": "stream",
     "text": [
      "sum is 10\n",
      "average is 2.5\n"
     ]
    }
   ],
   "source": [
    "#SUM AND AVERAGE OF ARRAY ELEMENTS\n",
    "n=int(input(\"enter number of elements:\"))\n",
    "sum=0\n",
    "for _ in range(n):\n",
    "    ar=list(map(int,input(\"enter elements\").split()))\n",
    "    for num in ar:\n",
    "        sum+=num\n",
    "print(\"sum is\",sum) \n",
    "avg=sum/n\n",
    "print(\"average is\",avg)\n"
   ]
  },
  {
   "cell_type": "code",
   "execution_count": 10,
   "id": "7a73f34c",
   "metadata": {},
   "outputs": [
    {
     "ename": "TypeError",
     "evalue": "'int' object is not callable",
     "output_type": "error",
     "traceback": [
      "\u001b[31m---------------------------------------------------------------------------\u001b[39m",
      "\u001b[31mTypeError\u001b[39m                                 Traceback (most recent call last)",
      "\u001b[36mCell\u001b[39m\u001b[36m \u001b[39m\u001b[32mIn[10]\u001b[39m\u001b[32m, line 2\u001b[39m\n\u001b[32m      1\u001b[39m a=\u001b[38;5;28mlist\u001b[39m(\u001b[38;5;28mmap\u001b[39m(\u001b[38;5;28mint\u001b[39m,\u001b[38;5;28minput\u001b[39m(\u001b[33m\"\u001b[39m\u001b[33menter elements\u001b[39m\u001b[33m\"\u001b[39m).split()))\n\u001b[32m----> \u001b[39m\u001b[32m2\u001b[39m \u001b[38;5;28mprint\u001b[39m(\u001b[38;5;28;43msum\u001b[39;49m\u001b[43m(\u001b[49m\u001b[43ma\u001b[49m\u001b[43m)\u001b[49m)\n\u001b[32m      3\u001b[39m \u001b[38;5;28mprint\u001b[39m(\u001b[38;5;28mlen\u001b[39m(a))\n\u001b[32m      4\u001b[39m avg=\u001b[38;5;28msum\u001b[39m(a)/\u001b[38;5;28mlen\u001b[39m(a)\n",
      "\u001b[31mTypeError\u001b[39m: 'int' object is not callable"
     ]
    }
   ],
   "source": [
    "a=list(map(int,input(\"enter elements\").split()))\n",
    "print(sum(a))\n",
    "print(len(a))\n",
    "avg=sum(a)/len(a)\n",
    "print(\"average is\",avg)"
   ]
  },
  {
   "cell_type": "code",
   "execution_count": 12,
   "id": "a7a34834",
   "metadata": {},
   "outputs": [
    {
     "ename": "TypeError",
     "evalue": "'int' object is not callable",
     "output_type": "error",
     "traceback": [
      "\u001b[31m---------------------------------------------------------------------------\u001b[39m",
      "\u001b[31mTypeError\u001b[39m                                 Traceback (most recent call last)",
      "\u001b[36mCell\u001b[39m\u001b[36m \u001b[39m\u001b[32mIn[12]\u001b[39m\u001b[32m, line 2\u001b[39m\n\u001b[32m      1\u001b[39m ar = \u001b[38;5;28mlist\u001b[39m(\u001b[38;5;28mmap\u001b[39m(\u001b[38;5;28mint\u001b[39m, \u001b[38;5;28minput\u001b[39m(\u001b[33m\"\u001b[39m\u001b[33mEnter elements: \u001b[39m\u001b[33m\"\u001b[39m).split()))\n\u001b[32m----> \u001b[39m\u001b[32m2\u001b[39m \u001b[38;5;28mprint\u001b[39m(\u001b[33m\"\u001b[39m\u001b[33mSum:\u001b[39m\u001b[33m\"\u001b[39m, \u001b[38;5;28;43msum\u001b[39;49m\u001b[43m(\u001b[49m\u001b[43mar\u001b[49m\u001b[43m)\u001b[49m)\n\u001b[32m      3\u001b[39m \u001b[38;5;28mprint\u001b[39m(\u001b[33m\"\u001b[39m\u001b[33mCount:\u001b[39m\u001b[33m\"\u001b[39m, \u001b[38;5;28mlen\u001b[39m(ar))\n\u001b[32m      4\u001b[39m avg = \u001b[38;5;28msum\u001b[39m(ar) / \u001b[38;5;28mlen\u001b[39m(ar)\n",
      "\u001b[31mTypeError\u001b[39m: 'int' object is not callable"
     ]
    }
   ],
   "source": [
    "ar = list(map(int, input(\"Enter elements: \").split()))\n",
    "print(\"Sum:\", sum(ar))\n",
    "print(\"Count:\", len(ar))\n",
    "avg = sum(ar) / len(ar)\n",
    "print(\"Average is:\", avg)\n"
   ]
  },
  {
   "cell_type": "code",
   "execution_count": 17,
   "id": "7c99cdf5",
   "metadata": {},
   "outputs": [
    {
     "name": "stdout",
     "output_type": "stream",
     "text": [
      "['a', 'b', 'c', 'd', 'v', 'd', 'a', 'c', 'r', 'g', 'd']\n",
      "after removing dupicates ['a', 'b', 'c', 'd', 'v', 'r', 'g']\n"
     ]
    }
   ],
   "source": [
    "#Example 2: Finding Duplicates\n",
    "#Identify duplicate names in a list of users (like checking for duplicate user IDs in a database).\n",
    "names=list(map(str,input(\"enter names:\").split()))\n",
    "no_duplicates=[]\n",
    "for name in names:\n",
    "    if name not in no_duplicates:\n",
    "        no_duplicates.append(name)\n",
    "print(names)        \n",
    "print(\"after removing dupicates\",no_duplicates)\n",
    "\n"
   ]
  }
 ],
 "metadata": {
  "kernelspec": {
   "display_name": "venv",
   "language": "python",
   "name": "python3"
  },
  "language_info": {
   "codemirror_mode": {
    "name": "ipython",
    "version": 3
   },
   "file_extension": ".py",
   "mimetype": "text/x-python",
   "name": "python",
   "nbconvert_exporter": "python",
   "pygments_lexer": "ipython3",
   "version": "3.13.2"
  }
 },
 "nbformat": 4,
 "nbformat_minor": 5
}
