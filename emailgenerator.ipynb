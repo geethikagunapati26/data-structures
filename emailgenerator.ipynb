{
 "cells": [
  {
   "cell_type": "code",
   "execution_count": null,
   "id": "7add5fad",
   "metadata": {},
   "outputs": [
    {
     "name": "stdout",
     "output_type": "stream",
     "text": [
      "Your mail is geethikag@gmail.com\n"
     ]
    }
   ],
   "source": [
    "pool = [\n",
    "    \"arjunsharma@gmail.com\",\n",
    "    \"priyapatel@gmail.com\",\n",
    "    \"rahulverma@gmail.com\",\n",
    "    \"ananyarao@gmail.com\",\n",
    "    \"vikramsingh@gmail.com\",\n",
    "    \"ishamehta@gmail.com\",\n",
    "    \"rohitnair@gmail.com\",\n",
    "    \"snehakapoor@gmail.com\",\n",
    "    \"amitdas@gmail.com\",\n",
    "    \"kavyajain@gmail.com\",\n",
    "    \"deepakyadav@gmail.com\",\n",
    "    \"shrutiagarwal@gmail.com\",\n",
    "    \"manishkumar@gmail.com\",\n",
    "    \"pallavireddy@gmail.com\",\n",
    "    \"naveenmishra@gmail.com\",\n",
    "    \"nehabhatt@gmail.com\",\n",
    "    \"sachinsen@gmail.com\",\n",
    "    \"swatigupta@gmail.com\",\n",
    "    \"tarunbose@gmail.com\",\n",
    "    \"meerapillai@gmail.com\"\n",
    "]\n",
    "first_name = input(\"Enter your first name: \").lower()\n",
    "last_name = input(\"Enter your last name: \").lower()\n",
    "g_mail =\"@gmail.com\"\n",
    "new_mail = f\"{first_name}{last_name}{g_mail}\"\n",
    "if new_mail in pool:\n",
    "    print(\"Mail already exists.\")\n",
    "else:\n",
    "    print(f\"Your mail is {new_mail}\")\n",
    "    pool.append(new_mail)\n"
   ]
  }
 ],
 "metadata": {
  "kernelspec": {
   "display_name": "venv",
   "language": "python",
   "name": "python3"
  },
  "language_info": {
   "codemirror_mode": {
    "name": "ipython",
    "version": 3
   },
   "file_extension": ".py",
   "mimetype": "text/x-python",
   "name": "python",
   "nbconvert_exporter": "python",
   "pygments_lexer": "ipython3",
   "version": "3.13.2"
  }
 },
 "nbformat": 4,
 "nbformat_minor": 5
}
